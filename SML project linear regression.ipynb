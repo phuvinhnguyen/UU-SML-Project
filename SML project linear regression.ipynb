{
 "cells": [
  {
   "cell_type": "code",
   "execution_count": null,
   "metadata": {},
   "outputs": [],
   "source": [
    "import pandas as pd\n",
    "from sklearn.preprocessing import StandardScaler\n",
    "from io import StringIO\n",
    "\n",
    "# Sample data\n",
    "\n",
    "# Load the data from a CSV file\n",
    "# Make sure to replace 'your_file_path.csv' with the actual path to your CSV file\n",
    "df = pd.read_csv('training_data_fall2024 (1)')\n",
    "\n",
    "# Load data into a DataFrame\n",
    "df = pd.read_csv(StringIO(data))\n",
    "\n",
    "# Convert target variable to binary format\n",
    "df['increase_stock'] = df['increase_stock'].map({'low_bike_demand': 0, 'high_bike_demand': 1})\n",
    "\n",
    "# Separate features and target variable\n",
    "X = df.drop('increase_stock', axis=1)\n",
    "y = df['increase_stock']\n",
    "\n",
    "# One-hot encode categorical variables\n",
    "X_encoded = pd.get_dummies(X, columns=['day_of_week', 'month', 'holiday', 'weekday', 'summertime'], drop_first=True)\n",
    "\n",
    "# Scale numerical features\n",
    "scaler = StandardScaler()\n",
    "X_scaled = scaler.fit_transform(X_encoded)\n",
    "\n",
    "# Create a DataFrame with the processed features\n",
    "X_processed = pd.DataFrame(X_scaled, columns=X_encoded.columns)\n",
    "\n",
    "# Display the first few rows of processed features and target variable\n",
    "print(X_processed.head())\n",
    "print(y.head())"
   ]
  }
 ],
 "metadata": {
  "kernelspec": {
   "display_name": "Python 3",
   "language": "python",
   "name": "python3"
  },
  "language_info": {
   "name": "python",
   "version": "3.12.3"
  }
 },
 "nbformat": 4,
 "nbformat_minor": 2
}
